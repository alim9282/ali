{
 "cells": [
  {
   "cell_type": "code",
   "execution_count": 14,
   "id": "40da4968",
   "metadata": {},
   "outputs": [
    {
     "name": "stdout",
     "output_type": "stream",
     "text": [
      "40.01 %\n",
      "59.99 %\n"
     ]
    }
   ],
   "source": [
    "import random \n",
    "i = 0\n",
    "\n",
    "x = 0\n",
    "y = 0\n",
    "while i < 10000:\n",
    "    a = ['red', 'red', 'blue', 'blue', 'blue']\n",
    "    b = random.choice(a)\n",
    "    if b == \"red\":\n",
    "      x = x+1\n",
    "    else:\n",
    "      y =y+1\n",
    "    i=i+1\n",
    "x = (x/10000)*100\n",
    "y = (y/10000)*100\n",
    "print(x,\"%\")\n",
    "print(y,\"%\")"
   ]
  },
  {
   "cell_type": "code",
   "execution_count": 22,
   "id": "e0502e7a",
   "metadata": {},
   "outputs": [
    {
     "name": "stdout",
     "output_type": "stream",
     "text": [
      "[('a', 1), ('a', 4), ('a', 5), ('c', 1), ('c', 4), ('c', 5), ('v', 1), ('v', 4), ('v', 5), ('d', 1), ('d', 4), ('d', 5), ('f', 1), ('f', 4), ('f', 5)]\n",
      "[(('a', 1), 'true'), (('a', 1), 'false'), (('a', 4), 'true'), (('a', 4), 'false'), (('a', 5), 'true'), (('a', 5), 'false'), (('c', 1), 'true'), (('c', 1), 'false'), (('c', 4), 'true'), (('c', 4), 'false'), (('c', 5), 'true'), (('c', 5), 'false'), (('v', 1), 'true'), (('v', 1), 'false'), (('v', 4), 'true'), (('v', 4), 'false'), (('v', 5), 'true'), (('v', 5), 'false'), (('d', 1), 'true'), (('d', 1), 'false'), (('d', 4), 'true'), (('d', 4), 'false'), (('d', 5), 'true'), (('d', 5), 'false'), (('f', 1), 'true'), (('f', 1), 'false'), (('f', 4), 'true'), (('f', 4), 'false'), (('f', 5), 'true'), (('f', 5), 'false')]\n"
     ]
    }
   ],
   "source": [
    "import itertools \n",
    "from itertools import product\n",
    "a = ['a','c','v','d','f']\n",
    "b = [1,4,5,]\n",
    "c = list(itertools.product(a,b))\n",
    "d = ['true','false']\n",
    "e = list(itertools.product(c,d))\n",
    "print(c)\n",
    "print(e)\n"
   ]
  },
  {
   "cell_type": "code",
   "execution_count": 4,
   "id": "227633dd",
   "metadata": {},
   "outputs": [
    {
     "name": "stdout",
     "output_type": "stream",
     "text": [
      "[1 3 2]\n"
     ]
    }
   ],
   "source": [
    "import numpy as np\n",
    "a = np.random.randint(1,7,size = 3)\n",
    "print(a)\n"
   ]
  },
  {
   "cell_type": "code",
   "execution_count": 8,
   "id": "d385b7db",
   "metadata": {},
   "outputs": [
    {
     "name": "stdout",
     "output_type": "stream",
     "text": [
      "1.9230769230769231 %\n",
      "98.07692307692307 %\n"
     ]
    }
   ],
   "source": [
    "import itertools \n",
    "from itertools import product\n",
    "a = range(1,53)\n",
    "b = range(1,53)\n",
    "c = list(itertools.product(a,b))\n",
    "d = len(c)\n",
    "i = 0\n",
    "k = []\n",
    "l = []\n",
    "while i < d:\n",
    "    if c[i][1] == c[i][0] :\n",
    "        k.append(c[i])\n",
    "            \n",
    "    else :\n",
    "        l.append(c[i])\n",
    "    i = i+1  \n",
    "#print(k) \n",
    "#print(l)\n",
    "m = (len(k)/len(c))*100\n",
    "print(m,\"%\")\n",
    "n = (len(l)/len(c))*100\n",
    "print(n,\"%\")"
   ]
  },
  {
   "cell_type": "code",
   "execution_count": 9,
   "id": "524b5497",
   "metadata": {},
   "outputs": [
    {
     "name": "stdout",
     "output_type": "stream",
     "text": [
      "[]\n",
      "[(1, 21)]\n"
     ]
    }
   ],
   "source": [
    "import itertools \n",
    "from itertools import product\n",
    "a = range(1,53)\n",
    "b = range(1,53)\n",
    "c = list(itertools.product(a,b))\n",
    "d = len(c)\n",
    "i = 20\n",
    "k = []\n",
    "l = []\n",
    "\n",
    "if c[i][1] == c[i][0] :\n",
    "    k.append(c[i])\n",
    "else:\n",
    "    l.append(c[i])\n",
    "print(k)  \n",
    "print(l)"
   ]
  },
  {
   "cell_type": "code",
   "execution_count": 28,
   "id": "d5ae4649",
   "metadata": {},
   "outputs": [
    {
     "name": "stdout",
     "output_type": "stream",
     "text": [
      "20.0 %\n"
     ]
    }
   ],
   "source": [
    "\n",
    "import itertools \n",
    "from itertools import product\n",
    "e = ['a','c','v','d','f']\n",
    "b = [1,4,5,]\n",
    "d = ['true','false']\n",
    "c = list(itertools.product(e,b,d))\n",
    "k = len(c)\n",
    "#print(c)\n",
    "i = 0\n",
    "x = 0\n",
    "y = 0\n",
    "while i<k:\n",
    "    if \"a\" in c[i]:\n",
    "        x = x+1\n",
    "    else:\n",
    "        y = y+1\n",
    "    i = i +1   \n",
    "percent = (x/k)*100   \n",
    "print(percent,\"%\")"
   ]
  }
 ],
 "metadata": {
  "kernelspec": {
   "display_name": "Python 3 (ipykernel)",
   "language": "python",
   "name": "python3"
  },
  "language_info": {
   "codemirror_mode": {
    "name": "ipython",
    "version": 3
   },
   "file_extension": ".py",
   "mimetype": "text/x-python",
   "name": "python",
   "nbconvert_exporter": "python",
   "pygments_lexer": "ipython3",
   "version": "3.9.13"
  }
 },
 "nbformat": 4,
 "nbformat_minor": 5
}
